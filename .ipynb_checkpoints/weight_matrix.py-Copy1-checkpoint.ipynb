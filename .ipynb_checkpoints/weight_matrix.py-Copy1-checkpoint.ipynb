{
 "cells": [
  {
   "cell_type": "code",
   "execution_count": 2,
   "id": "10197a0e",
   "metadata": {},
   "outputs": [],
   "source": [
    "import numpy as np\n",
    "from numpy import linalg as LA\n",
    "import matplotlib.pyplot as plt\n",
    "import random as rnd\n",
    "import pandas as pd"
   ]
  },
  {
   "cell_type": "code",
   "execution_count": 6,
   "id": "935ef223",
   "metadata": {},
   "outputs": [],
   "source": [
    "def calculate(T=1,steps = 10, alpha=0.2, c=1):\n",
    "    slope = (1-0)/(0.1*T-0.5*T)   #doubt in the denominator\n",
    "    theta_step = [(0.1*i)*T for i in range(1,steps)]\n",
    "    \n",
    "    list_spectralrad = []\n",
    "    for each_theta_step in theta_step:\n",
    "        \n",
    "        weight_matrix = []\n",
    "        for i in range(1,11):\n",
    "            \n",
    "            row = []\n",
    "            for j in range(1,11):\n",
    "                \n",
    "                if i==j:\n",
    "                    row.append(alpha)\n",
    "                else:\n",
    "                         time_diff = (j-i)*each_theta_step\n",
    "                         row.append(slope*(time_diff-(0.1*T))+c)\n",
    "                        \n",
    "            weight_matrix.append(row)\n",
    "            \n",
    "            #print(len(weight_matrix),len(weight_matrix[0]))\n",
    "            print(pd.DataFrame(weight_matrix))\n",
    "            \n",
    "            spectral_radius = abs(max(LA.eigvals(weight_matrix)))\n",
    "            list_spectralrad.append(spectral_radius)\n",
    "            \n",
    "            plt.plot(theta_step,list_rads)\n",
    "            plt.xlabel('Theta_steps')\n",
    "            plt.ylabel('Spectral_radius')\n",
    "            plt.show()"
   ]
  }
 ],
 "metadata": {
  "kernelspec": {
   "display_name": "Python 3 (ipykernel)",
   "language": "python",
   "name": "python3"
  },
  "language_info": {
   "codemirror_mode": {
    "name": "ipython",
    "version": 3
   },
   "file_extension": ".py",
   "mimetype": "text/x-python",
   "name": "python",
   "nbconvert_exporter": "python",
   "pygments_lexer": "ipython3",
   "version": "3.9.2"
  }
 },
 "nbformat": 4,
 "nbformat_minor": 5
}
