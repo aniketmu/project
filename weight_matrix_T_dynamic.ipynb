{
 "cells": [
  {
   "cell_type": "code",
   "execution_count": 3,
   "id": "31ebfe32",
   "metadata": {},
   "outputs": [],
   "source": [
    "import numpy as np\n",
    "from numpy import linalg as LA\n",
    "import matplotlib.pyplot as plt\n",
    "import random as rnd\n",
    "import pandas as pd\n",
    "import math"
   ]
  },
  {
   "cell_type": "code",
   "execution_count": 1,
   "id": "9fab4243",
   "metadata": {},
   "outputs": [
    {
     "ename": "NameError",
     "evalue": "name 'np' is not defined",
     "output_type": "error",
     "traceback": [
      "\u001b[1;31m---------------------------------------------------------------------------\u001b[0m",
      "\u001b[1;31mNameError\u001b[0m                                 Traceback (most recent call last)",
      "\u001b[1;32m~\\AppData\\Local\\Temp/ipykernel_576/658254939.py\u001b[0m in \u001b[0;36m<module>\u001b[1;34m\u001b[0m\n\u001b[0;32m     53\u001b[0m     \u001b[1;32mfor\u001b[0m \u001b[0mi\u001b[0m \u001b[1;32min\u001b[0m \u001b[0mrange\u001b[0m\u001b[1;33m(\u001b[0m\u001b[1;36m1\u001b[0m\u001b[1;33m,\u001b[0m\u001b[1;36m11\u001b[0m\u001b[1;33m)\u001b[0m\u001b[1;33m:\u001b[0m\u001b[1;33m\u001b[0m\u001b[1;33m\u001b[0m\u001b[0m\n\u001b[0;32m     54\u001b[0m \u001b[1;33m\u001b[0m\u001b[0m\n\u001b[1;32m---> 55\u001b[1;33m         \u001b[0mcalculate\u001b[0m\u001b[1;33m(\u001b[0m\u001b[0mi\u001b[0m\u001b[1;33m)\u001b[0m\u001b[1;33m\u001b[0m\u001b[1;33m\u001b[0m\u001b[0m\n\u001b[0m",
      "\u001b[1;32m~\\AppData\\Local\\Temp/ipykernel_576/658254939.py\u001b[0m in \u001b[0;36mcalculate\u001b[1;34m(q_slope, a, Q_0, omega_0, steps, alpha, w_max, w_min, theta_min, theta_max)\u001b[0m\n\u001b[0;32m      1\u001b[0m \u001b[1;32mdef\u001b[0m \u001b[0mcalculate\u001b[0m\u001b[1;33m(\u001b[0m \u001b[0mq_slope\u001b[0m \u001b[1;33m=\u001b[0m \u001b[1;36m3.2928\u001b[0m\u001b[1;33m,\u001b[0m \u001b[0ma\u001b[0m \u001b[1;33m=\u001b[0m \u001b[1;36m0.6\u001b[0m\u001b[1;33m,\u001b[0m \u001b[0mQ_0\u001b[0m \u001b[1;33m=\u001b[0m \u001b[1;36m41.6\u001b[0m \u001b[1;33m,\u001b[0m \u001b[0momega_0\u001b[0m \u001b[1;33m=\u001b[0m \u001b[1;36m14000\u001b[0m\u001b[1;33m,\u001b[0m \u001b[0msteps\u001b[0m \u001b[1;33m=\u001b[0m \u001b[1;36m30\u001b[0m\u001b[1;33m,\u001b[0m \u001b[0malpha\u001b[0m\u001b[1;33m=\u001b[0m\u001b[1;36m0.2\u001b[0m\u001b[1;33m,\u001b[0m \u001b[0mw_max\u001b[0m \u001b[1;33m=\u001b[0m \u001b[1;36m1\u001b[0m\u001b[1;33m,\u001b[0m \u001b[0mw_min\u001b[0m \u001b[1;33m=\u001b[0m \u001b[1;36m0\u001b[0m\u001b[1;33m,\u001b[0m \u001b[0mtheta_min\u001b[0m \u001b[1;33m=\u001b[0m \u001b[1;36m0.1\u001b[0m\u001b[1;33m,\u001b[0m \u001b[0mtheta_max\u001b[0m \u001b[1;33m=\u001b[0m \u001b[1;36m5\u001b[0m \u001b[1;33m)\u001b[0m\u001b[1;33m:\u001b[0m\u001b[1;33m\u001b[0m\u001b[1;33m\u001b[0m\u001b[0m\n\u001b[0;32m      2\u001b[0m \u001b[1;33m\u001b[0m\u001b[0m\n\u001b[1;32m----> 3\u001b[1;33m     \u001b[0mT\u001b[0m \u001b[1;33m=\u001b[0m \u001b[1;33m(\u001b[0m\u001b[0mQ_0\u001b[0m\u001b[1;33m*\u001b[0m\u001b[0mnp\u001b[0m\u001b[1;33m.\u001b[0m\u001b[0mexp\u001b[0m\u001b[1;33m(\u001b[0m\u001b[0ma\u001b[0m\u001b[1;33m*\u001b[0m\u001b[0mq_slope\u001b[0m\u001b[1;33m)\u001b[0m\u001b[1;33m)\u001b[0m\u001b[1;33m/\u001b[0m\u001b[1;33m(\u001b[0m\u001b[0momega_0\u001b[0m\u001b[1;33m)\u001b[0m\u001b[1;33m\u001b[0m\u001b[1;33m\u001b[0m\u001b[0m\n\u001b[0m\u001b[0;32m      4\u001b[0m     \u001b[1;31m#T = Q_0/omega_0*math.exp(a*q_slope)\u001b[0m\u001b[1;33m\u001b[0m\u001b[1;33m\u001b[0m\u001b[1;33m\u001b[0m\u001b[0m\n\u001b[0;32m      5\u001b[0m     \u001b[0mw_slope\u001b[0m \u001b[1;33m=\u001b[0m \u001b[1;33m(\u001b[0m\u001b[0mw_max\u001b[0m \u001b[1;33m-\u001b[0m \u001b[0mw_min\u001b[0m\u001b[1;33m)\u001b[0m\u001b[1;33m/\u001b[0m\u001b[1;33m(\u001b[0m\u001b[1;33m(\u001b[0m\u001b[0mtheta_min\u001b[0m \u001b[1;33m-\u001b[0m \u001b[0mtheta_max\u001b[0m\u001b[1;33m)\u001b[0m\u001b[1;33m*\u001b[0m\u001b[0mT\u001b[0m\u001b[1;33m)\u001b[0m\u001b[1;33m\u001b[0m\u001b[1;33m\u001b[0m\u001b[0m\n",
      "\u001b[1;31mNameError\u001b[0m: name 'np' is not defined"
     ]
    }
   ],
   "source": [
    "def calculate( q_slope = 3.2928, a = 0.6, Q_0 = 41.6 , omega_0 = 14000, steps = 30, alpha=0.2, w_max = 1, w_min = 0, theta_min = 0.1, theta_max = 5 ):\n",
    "    \n",
    "    T = (Q_0*np.exp(a*q_slope))/(omega_0)\n",
    "    #T = Q_0/omega_0*math.exp(a*q_slope)\n",
    "    w_slope = (w_max - w_min)/((theta_min - theta_max)*T)\n",
    "    theta_step = [(theta_min*k)*T for k in range(1,steps)]\n",
    "    \n",
    "    ##T = Q_0/omega_0*exp(a*q_slope)\n",
    "    #T = Q_0 * np.exp(rnd.uniform(0, 1)*q_slope)\n",
    "    \n",
    "    \n",
    "    \n",
    "    list_spectralrad = []\n",
    "    for each_theta_step in theta_step:\n",
    "        \n",
    "\n",
    "        weight_matrix = []\n",
    "        for i in range(1,11):\n",
    "\n",
    "            \n",
    "            row = []\n",
    "            for j in range(1,11):\n",
    "                \n",
    "                \n",
    "                if i==j:\n",
    "                    row.append(alpha)\n",
    "                \n",
    "                else:\n",
    "                    \n",
    "                    time_diff = (j-i)*each_theta_step\n",
    "                    \n",
    "                    row.append(w_slope*(time_diff-(theta_min*T))+ w_max)\n",
    "\n",
    "            \n",
    "        weight_matrix.append(row)\n",
    "        \n",
    "        #print(pd.DataFrame(weight_matrix))\n",
    "        #list_spectralrad = []   \n",
    "        spectralradius = abs(max(LA.eigvals(weight_matrix)))\n",
    "        #list_spectralrad.append(spectralradius)\n",
    "    \n",
    "        #print(spectralradius)\n",
    "    \n",
    "    plt.plot(theta_step,list_spectralrad)\n",
    "    plt.xlabel('Theta_steps')\n",
    "    plt.ylabel('Spectral_radius')\n",
    "    plt.show()\n",
    "       \n",
    "\n",
    "\n",
    "if __name__ == '__main__':\n",
    "\n",
    "    for i in range(1,11):\n",
    "\n",
    "        calculate(i)"
   ]
  },
  {
   "cell_type": "code",
   "execution_count": null,
   "id": "f00179d3",
   "metadata": {},
   "outputs": [],
   "source": []
  }
 ],
 "metadata": {
  "kernelspec": {
   "display_name": "Python 3 (ipykernel)",
   "language": "python",
   "name": "python3"
  },
  "language_info": {
   "codemirror_mode": {
    "name": "ipython",
    "version": 3
   },
   "file_extension": ".py",
   "mimetype": "text/x-python",
   "name": "python",
   "nbconvert_exporter": "python",
   "pygments_lexer": "ipython3",
   "version": "3.9.6"
  }
 },
 "nbformat": 4,
 "nbformat_minor": 5
}
