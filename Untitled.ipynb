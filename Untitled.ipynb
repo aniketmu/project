{
 "cells": [
  {
   "cell_type": "code",
   "execution_count": 1,
   "id": "2e00a0a1",
   "metadata": {},
   "outputs": [],
   "source": [
    "import weight_calculation as wc"
   ]
  },
  {
   "cell_type": "code",
   "execution_count": null,
   "id": "7a964218",
   "metadata": {},
   "outputs": [],
   "source": [
    "wc.calculate(1)"
   ]
  }
 ],
 "metadata": {
  "kernelspec": {
   "display_name": "Python 3 (ipykernel)",
   "language": "python",
   "name": "python3"
  },
  "language_info": {
   "codemirror_mode": {
    "name": "ipython",
    "version": 3
   },
   "file_extension": ".py",
   "mimetype": "text/x-python",
   "name": "python",
   "nbconvert_exporter": "python",
   "pygments_lexer": "ipython3",
   "version": "3.9.2"
  }
 },
 "nbformat": 4,
 "nbformat_minor": 5
}
